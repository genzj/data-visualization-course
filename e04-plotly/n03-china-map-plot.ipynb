{
 "cells": [
  {
   "cell_type": "code",
   "execution_count": 1,
   "metadata": {},
   "outputs": [
    {
     "data": {
      "text/html": [
       "<script type=\"text/javascript\">window.PlotlyConfig = {MathJaxConfig: 'local'};</script><script type=\"text/javascript\">if (window.MathJax) {MathJax.Hub.Config({SVG: {font: \"STIX-Web\"}});}</script><script>requirejs.config({paths: { 'plotly': ['https://cdn.plot.ly/plotly-latest.min']},});if(!window._Plotly) {require(['plotly'],function(plotly) {window._Plotly=plotly;});}</script>"
      ],
      "text/vnd.plotly.v1+html": [
       "<script type=\"text/javascript\">window.PlotlyConfig = {MathJaxConfig: 'local'};</script><script type=\"text/javascript\">if (window.MathJax) {MathJax.Hub.Config({SVG: {font: \"STIX-Web\"}});}</script><script>requirejs.config({paths: { 'plotly': ['https://cdn.plot.ly/plotly-latest.min']},});if(!window._Plotly) {require(['plotly'],function(plotly) {window._Plotly=plotly;});}</script>"
      ]
     },
     "metadata": {},
     "output_type": "display_data"
    }
   ],
   "source": [
    "import plotly.plotly as py\n",
    "from plotly.offline import download_plotlyjs, init_notebook_mode, plot, iplot\n",
    "import plotly.graph_objs as go\n",
    "\n",
    "init_notebook_mode(connected=True)"
   ]
  },
  {
   "cell_type": "code",
   "execution_count": 2,
   "metadata": {},
   "outputs": [],
   "source": [
    "mapbox_access_token = 'pk.eyJ1IjoiZ2VuemoiLCJhIjoiY2pzYzRhcXE2MDU2bTQ0anZhZW1oMXJ2cSJ9.igQgCCfKXTfbKJPaiFx4uA'\n",
    "\n",
    "pos = [float(x) for x in '121.525419,31.158766'.split(',')]"
   ]
  },
  {
   "cell_type": "code",
   "execution_count": 3,
   "metadata": {},
   "outputs": [],
   "source": [
    "data = [\n",
    "    go.Scattermapbox(\n",
    "        lat=[pos[1], ],\n",
    "        lon=[pos[0], ],\n",
    "        mode='markers',\n",
    "        marker=dict(\n",
    "            size=14\n",
    "        ),\n",
    "        text=['Sanlin'],\n",
    "    )\n",
    "]"
   ]
  },
  {
   "cell_type": "code",
   "execution_count": 6,
   "metadata": {},
   "outputs": [],
   "source": [
    "layout = go.Layout(\n",
    "    autosize=True,\n",
    "    hovermode='closest',\n",
    "    mapbox=dict(\n",
    "        accesstoken=mapbox_access_token,\n",
    "        bearing=0,\n",
    "        center=dict(\n",
    "            lat=pos[1],\n",
    "            lon=pos[0]\n",
    "        ),\n",
    "        pitch=0,\n",
    "        zoom=15\n",
    "    ),\n",
    ")"
   ]
  },
  {
   "cell_type": "code",
   "execution_count": 7,
   "metadata": {},
   "outputs": [
    {
     "data": {
      "application/vnd.plotly.v1+json": {
       "config": {
        "linkText": "Export to plot.ly",
        "plotlyServerURL": "https://plot.ly",
        "showLink": false
       },
       "data": [
        {
         "lat": [
          31.158766
         ],
         "lon": [
          121.525419
         ],
         "marker": {
          "size": 14
         },
         "mode": "markers",
         "text": [
          "Sanlin"
         ],
         "type": "scattermapbox",
         "uid": "a7fcaa0a-6688-4b8f-8690-911d9f2d47f0"
        }
       ],
       "layout": {
        "autosize": true,
        "hovermode": "closest",
        "mapbox": {
         "accesstoken": "pk.eyJ1IjoiZ2VuemoiLCJhIjoiY2pzYzRhcXE2MDU2bTQ0anZhZW1oMXJ2cSJ9.igQgCCfKXTfbKJPaiFx4uA",
         "bearing": 0,
         "center": {
          "lat": 31.158766,
          "lon": 121.525419
         },
         "pitch": 0,
         "zoom": 15
        }
       }
      },
      "text/html": [
       "<div id=\"9f527eea-23da-44ba-8d15-2898c34e7586\" style=\"height: 525px; width: 100%;\" class=\"plotly-graph-div\"></div><script type=\"text/javascript\">require([\"plotly\"], function(Plotly) { window.PLOTLYENV=window.PLOTLYENV || {};window.PLOTLYENV.BASE_URL=\"https://plot.ly\";Plotly.newPlot(\"9f527eea-23da-44ba-8d15-2898c34e7586\", [{\"lat\": [31.158766], \"lon\": [121.525419], \"marker\": {\"size\": 14}, \"mode\": \"markers\", \"text\": [\"Sanlin\"], \"type\": \"scattermapbox\", \"uid\": \"4b1f05a8-7be0-4d5d-8401-0f683f3341b9\"}], {\"autosize\": true, \"hovermode\": \"closest\", \"mapbox\": {\"accesstoken\": \"pk.eyJ1IjoiZ2VuemoiLCJhIjoiY2pzYzRhcXE2MDU2bTQ0anZhZW1oMXJ2cSJ9.igQgCCfKXTfbKJPaiFx4uA\", \"bearing\": 0, \"center\": {\"lat\": 31.158766, \"lon\": 121.525419}, \"pitch\": 0, \"zoom\": 15}}, {\"showLink\": false, \"linkText\": \"Export to plot.ly\", \"plotlyServerURL\": \"https://plot.ly\"})});</script><script type=\"text/javascript\">window.addEventListener(\"resize\", function(){window._Plotly.Plots.resize(document.getElementById(\"9f527eea-23da-44ba-8d15-2898c34e7586\"));});</script>"
      ],
      "text/vnd.plotly.v1+html": [
       "<div id=\"9f527eea-23da-44ba-8d15-2898c34e7586\" style=\"height: 525px; width: 100%;\" class=\"plotly-graph-div\"></div><script type=\"text/javascript\">require([\"plotly\"], function(Plotly) { window.PLOTLYENV=window.PLOTLYENV || {};window.PLOTLYENV.BASE_URL=\"https://plot.ly\";Plotly.newPlot(\"9f527eea-23da-44ba-8d15-2898c34e7586\", [{\"lat\": [31.158766], \"lon\": [121.525419], \"marker\": {\"size\": 14}, \"mode\": \"markers\", \"text\": [\"Sanlin\"], \"type\": \"scattermapbox\", \"uid\": \"4b1f05a8-7be0-4d5d-8401-0f683f3341b9\"}], {\"autosize\": true, \"hovermode\": \"closest\", \"mapbox\": {\"accesstoken\": \"pk.eyJ1IjoiZ2VuemoiLCJhIjoiY2pzYzRhcXE2MDU2bTQ0anZhZW1oMXJ2cSJ9.igQgCCfKXTfbKJPaiFx4uA\", \"bearing\": 0, \"center\": {\"lat\": 31.158766, \"lon\": 121.525419}, \"pitch\": 0, \"zoom\": 15}}, {\"showLink\": false, \"linkText\": \"Export to plot.ly\", \"plotlyServerURL\": \"https://plot.ly\"})});</script><script type=\"text/javascript\">window.addEventListener(\"resize\", function(){window._Plotly.Plots.resize(document.getElementById(\"9f527eea-23da-44ba-8d15-2898c34e7586\"));});</script>"
      ]
     },
     "metadata": {},
     "output_type": "display_data"
    }
   ],
   "source": [
    "fig = dict(data=data, layout=layout)\n",
    "\n",
    "iplot(fig)"
   ]
  }
 ],
 "metadata": {
  "kernelspec": {
   "display_name": "Python 3",
   "language": "python",
   "name": "python3"
  },
  "language_info": {
   "codemirror_mode": {
    "name": "ipython",
    "version": 3
   },
   "file_extension": ".py",
   "mimetype": "text/x-python",
   "name": "python",
   "nbconvert_exporter": "python",
   "pygments_lexer": "ipython3",
   "version": "3.6.7"
  }
 },
 "nbformat": 4,
 "nbformat_minor": 2
}
